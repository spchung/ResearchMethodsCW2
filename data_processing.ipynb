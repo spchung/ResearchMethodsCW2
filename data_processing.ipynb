{
 "cells": [
  {
   "cell_type": "code",
   "execution_count": 1,
   "metadata": {},
   "outputs": [],
   "source": [
    "import pandas"
   ]
  },
  {
   "cell_type": "code",
   "execution_count": null,
   "metadata": {},
   "outputs": [],
   "source": [
    "file_name = 'full_set.csv'\n",
    "# file_name = 'mini.csv'\n",
    "folder = 'full_set'\n",
    "# folder = 'mini'"
   ]
  },
  {
   "cell_type": "markdown",
   "metadata": {},
   "source": []
  },
  {
   "cell_type": "code",
   "execution_count": 3,
   "metadata": {},
   "outputs": [],
   "source": [
    "src = f\"{folder}/{file_name}\""
   ]
  },
  {
   "cell_type": "code",
   "execution_count": 4,
   "metadata": {},
   "outputs": [],
   "source": [
    "# read the CSV file\n",
    "df = pandas.read_csv(src)"
   ]
  },
  {
   "cell_type": "code",
   "execution_count": 5,
   "metadata": {},
   "outputs": [],
   "source": [
    "all_columns_name = df.columns.tolist()\n",
    "\n",
    "mean_cols = [col for col in df.columns if col.startswith('mean_')]\n",
    "other_cols = ['grouping', 'n_participants', 'sex', 'diet_group', 'age_group']\n",
    "sd_cols = [col for col in df.columns if col.startswith('sd_')]\n",
    "\n",
    "all_run_ids = df['mc_run_id'].unique().tolist()\n",
    "all_run_ids.sort()\n",
    "\n",
    "\n",
    "run_summary_dfs = []\n",
    "\n",
    "master_df = pandas.DataFrame()\n",
    "\n",
    "for run_id in all_run_ids:\n",
    "    segment = df[df['mc_run_id'] == run_id]\n",
    "    seg_mean_df = segment.groupby('diet_group').agg({\n",
    "        **{col: 'mean' for col in mean_cols},\n",
    "        **{col: 'mean' for col in sd_cols},\n",
    "        'n_participants': 'sum',\n",
    "    }).reset_index()\n",
    "    \n",
    "    seg_mean_df.insert(0, 'mc_run_id', [run_id] * len(seg_mean_df))\n",
    "\n",
    "    master_df = pandas.concat([master_df, seg_mean_df], ignore_index=True)\n",
    "\n",
    "# save master_df\n",
    "master_df.to_csv(f\"{folder}/summary_{file_name}\", index=False)"
   ]
  }
 ],
 "metadata": {
  "kernelspec": {
   "display_name": "3.12.8",
   "language": "python",
   "name": "python3"
  },
  "language_info": {
   "codemirror_mode": {
    "name": "ipython",
    "version": 3
   },
   "file_extension": ".py",
   "mimetype": "text/x-python",
   "name": "python",
   "nbconvert_exporter": "python",
   "pygments_lexer": "ipython3",
   "version": "3.12.8"
  }
 },
 "nbformat": 4,
 "nbformat_minor": 2
}
